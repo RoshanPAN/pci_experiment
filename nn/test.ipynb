{
 "cells": [
  {
   "cell_type": "code",
   "execution_count": 539,
   "metadata": {},
   "outputs": [
    {
     "name": "stdout",
     "output_type": "stream",
     "text": [
      "all data shape: (726, 244)\n"
     ]
    }
   ],
   "source": [
    "#loading data and concatenate them\n",
    "import numpy as np\n",
    "\n",
    "a = np.load(\"01_normal_Nov10_labeled.numpy\")\n",
    "b = np.load(\"03_with_memory_fill_Nov11_part1_labeled.numpy\")\n",
    "c = np.load(\"03_with_memory_fill_Nov11_part2_labeled.numpy\")\n",
    "d = np.load(\"03_with_memory_fill_Nov11_part3_labeled.numpy\")\n",
    "e = np.load(\"03_with_memory_fill_Nov11_part4_labeled.numpy\")\n",
    "f = np.load(\"05_with_network_partition_part1_labeled.numpy\")\n",
    "n = np.load(\"05_with_network_partition_part2_labeled.numpy\")\n",
    "\n",
    "all_data = np.concatenate((b,c,d,e,f,n))\n",
    "print (\"all data shape:\",all_data.shape)"
   ]
  },
  {
   "cell_type": "code",
   "execution_count": 540,
   "metadata": {},
   "outputs": [
    {
     "name": "stdout",
     "output_type": "stream",
     "text": [
      "the number of 0: 336\n",
      "the number of 1: 129\n",
      "the number of 2: 261\n"
     ]
    },
    {
     "name": "stderr",
     "output_type": "stream",
     "text": [
      "/anaconda/envs/tflearn/lib/python3.5/site-packages/sklearn/preprocessing/data.py:160: UserWarning: Numerical issues were encountered when centering the data and might not be solved. Dataset may contain too large values. You may need to prescale your features.\n",
      "  warnings.warn(\"Numerical issues were encountered \"\n"
     ]
    }
   ],
   "source": [
    "#handling features and labels\n",
    "from sklearn import preprocessing\n",
    "\n",
    "features = all_data[:,0:243]\n",
    "features_scaled = preprocessing.scale(features)\n",
    "\n",
    "labels = all_data[:,243].astype(int).reshape(-1)\n",
    "one_hot_labels = np.eye(3)[labels]\n",
    "\n",
    "print(\"the number of 0:\",np.sum(labels==0))\n",
    "print(\"the number of 1:\",np.sum(labels==1))\n",
    "print(\"the number of 2:\",np.sum(labels==2))\n"
   ]
  },
  {
   "cell_type": "code",
   "execution_count": 541,
   "metadata": {},
   "outputs": [
    {
     "name": "stdout",
     "output_type": "stream",
     "text": [
      "the number of validation set: 580\n",
      "the number of train set: 146\n"
     ]
    }
   ],
   "source": [
    "#split and shuffle data\n",
    "from sklearn.utils import shuffle\n",
    "from sklearn.model_selection import train_test_split\n",
    "features_scaled_random,one_hot_labels_random = shuffle(features_scaled,one_hot_labels)\n",
    "X_train, X_validation, y_train, y_validation = train_test_split(\n",
    "    features_scaled_random, one_hot_labels_random, test_size=0.20, random_state=42)\n",
    "print(\"the number of validation set:\",X_train.shape[0])\n",
    "print(\"the number of train set:\",X_validation.shape[0])"
   ]
  },
  {
   "cell_type": "code",
   "execution_count": 542,
   "metadata": {
    "collapsed": true
   },
   "outputs": [],
   "source": [
    "#model\n",
    "import tensorflow as tf\n",
    "\n",
    "input_data = tf.placeholder(tf.float32, shape=[None,243])\n",
    "target_data = tf.placeholder(tf.float32, shape=[None,3])\n",
    "\n",
    "hidden_nodes = 15\n",
    "\n",
    "input_weights = tf.Variable(tf.truncated_normal([243,hidden_nodes]))\n",
    "input_biases = tf.Variable(tf.zeros([hidden_nodes]))\n",
    "\n",
    "hidden_weights = tf.Variable(tf.truncated_normal([hidden_nodes,3]))\n",
    "hidden_biases = tf.Variable(tf.zeros([3]))\n",
    "\n",
    "input_layer = tf.matmul(input_data, input_weights)\n",
    "hidden_layer = tf.nn.relu(input_layer + input_biases)\n",
    "digit_label = tf.matmul(hidden_layer, hidden_weights) + hidden_biases"
   ]
  },
  {
   "cell_type": "code",
   "execution_count": 543,
   "metadata": {
    "collapsed": true
   },
   "outputs": [],
   "source": [
    "#train function\n",
    "loss_function = tf.reduce_mean(\n",
    "    tf.nn.softmax_cross_entropy_with_logits(logits=digit_label, labels=target_data,name='prob'))\n",
    "optimizer = tf.train.GradientDescentOptimizer(0.005).minimize(loss_function)"
   ]
  },
  {
   "cell_type": "code",
   "execution_count": 544,
   "metadata": {
    "collapsed": true
   },
   "outputs": [],
   "source": [
    "# define accuracy\n",
    "correct_prediction = tf.equal(tf.argmax(digit_label,1), tf.argmax(target_data,1))\n",
    "accuracy = tf.reduce_mean(tf.cast(correct_prediction, tf.float32))"
   ]
  },
  {
   "cell_type": "code",
   "execution_count": 545,
   "metadata": {},
   "outputs": [
    {
     "name": "stdout",
     "output_type": "stream",
     "text": [
      "Training epoch 50\n",
      "Training epoch 100\n",
      "Training epoch 150\n",
      "Training epoch 200\n",
      "Training epoch 250\n",
      "Training epoch 300\n",
      "Training epoch 350\n",
      "Training epoch 400\n",
      "Training epoch 450\n",
      "Training epoch 500\n",
      "Training epoch 550\n",
      "Training epoch 600\n",
      "Training epoch 650\n",
      "Training epoch 700\n",
      "Training epoch 750\n",
      "Training epoch 800\n",
      "Training epoch 850\n",
      "Training epoch 900\n",
      "Training epoch 950\n",
      "Training epoch 1000\n",
      "Training epoch 1050\n",
      "Training epoch 1100\n",
      "Training epoch 1150\n",
      "Training epoch 1200\n",
      "Training epoch 1250\n",
      "Training epoch 1300\n",
      "Training epoch 1350\n",
      "Training epoch 1400\n",
      "Training epoch 1450\n",
      "Training epoch 1500\n",
      "Training epoch 1550\n",
      "Training epoch 1600\n",
      "Training epoch 1650\n",
      "Training epoch 1700\n",
      "Training epoch 1750\n",
      "Training epoch 1800\n",
      "Training epoch 1850\n",
      "Training epoch 1900\n",
      "Training epoch 1950\n",
      "Training epoch 2000\n",
      "Training epoch 2050\n",
      "Training epoch 2100\n",
      "Training epoch 2150\n",
      "Training epoch 2200\n",
      "Training epoch 2250\n",
      "Training epoch 2300\n",
      "Training epoch 2350\n",
      "Training epoch 2400\n",
      "Training epoch 2450\n",
      "Training epoch 2500\n",
      "Training epoch 2550\n",
      "Training epoch 2600\n",
      "Training epoch 2650\n",
      "Training epoch 2700\n",
      "Training epoch 2750\n",
      "Training epoch 2800\n",
      "Training epoch 2850\n",
      "Training epoch 2900\n",
      "Training epoch 2950\n",
      "Training epoch 3000\n",
      "Training epoch 3050\n",
      "Training epoch 3100\n",
      "Training epoch 3150\n",
      "Training epoch 3200\n",
      "Training epoch 3250\n",
      "Training epoch 3300\n",
      "Training epoch 3350\n",
      "Training epoch 3400\n",
      "Training epoch 3450\n",
      "Training epoch 3500\n",
      "Training epoch 3550\n",
      "Training epoch 3600\n",
      "Training epoch 3650\n",
      "Training epoch 3700\n",
      "Training epoch 3750\n",
      "Training epoch 3800\n",
      "Training epoch 3850\n",
      "Training epoch 3900\n",
      "Training epoch 3950\n",
      "Training epoch 4000\n",
      "Training epoch 4050\n",
      "Training epoch 4100\n",
      "Training epoch 4150\n",
      "Training epoch 4200\n",
      "Training epoch 4250\n",
      "Training epoch 4300\n",
      "Training epoch 4350\n",
      "Training epoch 4400\n",
      "Training epoch 4450\n",
      "Training epoch 4500\n",
      "Training epoch 4550\n",
      "Training epoch 4600\n",
      "Training epoch 4650\n",
      "Training epoch 4700\n",
      "Training epoch 4750\n",
      "Training epoch 4800\n",
      "Training epoch 4850\n",
      "Training epoch 4900\n",
      "Training epoch 4950\n",
      "Training epoch 5000\n"
     ]
    }
   ],
   "source": [
    "EPOCHS = 5000\n",
    "BATCH_SIZE = 128\n",
    "Mark_point = 50\n",
    "\n",
    "num_examples = len(X_train)\n",
    "train_accuracy = []\n",
    "validation_accuracy = []\n",
    "tmp_train_accuracy,tmp_validation_accuracy = 0,0\n",
    "\n",
    "sess=tf.InteractiveSession()   \n",
    "sess.run(tf.global_variables_initializer())\n",
    "saver=tf.train.Saver(max_to_keep=1)\n",
    "\n",
    "for x in range(EPOCHS):\n",
    "    X_train,y_train = shuffle(X_train,y_train)\n",
    "    for offset in range(0,num_examples,BATCH_SIZE):\n",
    "        batch_x, batch_y = X_train[offset:offset+BATCH_SIZE], y_train[offset:offset+BATCH_SIZE]\n",
    "        optimizer.run(feed_dict={input_data: batch_x, target_data: batch_y})\n",
    "    if ((x+1) % Mark_point == 0):\n",
    "        print(\"Training epoch \" + str(x+1))\n",
    "        tmp_train_accuracy = accuracy.eval(feed_dict={input_data: X_train, target_data: y_train})\n",
    "        tmp_validation_accuracy = accuracy.eval(feed_dict={input_data: X_validation, target_data: y_validation})\n",
    "        train_accuracy.append(tmp_train_accuracy)\n",
    "        validation_accuracy.append(tmp_validation_accuracy)\n",
    "        \n",
    "saver.save(sess,'ckpt/model.ckpt')\n",
    "sess.close()\n"
   ]
  },
  {
   "cell_type": "code",
   "execution_count": 546,
   "metadata": {},
   "outputs": [
    {
     "data": {
      "image/png": "[encoded data removed]",
      "text/plain": [
       "<matplotlib.figure.Figure at 0x12ca78c18>"
      ]
     },
     "metadata": {},
     "output_type": "display_data"
    }
   ],
   "source": [
    "x = np.array(range(0,EPOCHS,Mark_point))\n",
    "y1, y2 = np.array(train_accuracy), np.array(validation_accuracy)\n",
    " \n",
    "plt.plot(x, y1,label='train_accuracy')\n",
    "plt.plot(x, y2,label='validation_accuracy')\n",
    " \n",
    "plt.title('Train chart')\n",
    "plt.xlabel('EPOCHS')\n",
    "plt.ylabel('Accuracy')\n",
    " \n",
    "plt.legend()\n",
    "plt.show()"
   ]
  },
  {
   "cell_type": "code",
   "execution_count": 547,
   "metadata": {},
   "outputs": [
    {
     "name": "stdout",
     "output_type": "stream",
     "text": [
      "INFO:tensorflow:Restoring parameters from ckpt/model.ckpt\n",
      "Predict data: [[  9.98369634e-01   1.89016643e-18   1.63038902e-03]]\n",
      "True data: [ 1.  0.  0.]\n"
     ]
    }
   ],
   "source": [
    "#test part\n",
    "i = 10 #test data position(just an example)\n",
    "my_data = X_train[i][np.newaxis,:]\n",
    "logits = digit_label\n",
    "softmax_logits = tf.nn.softmax(logits)\n",
    "\n",
    "sess=tf.InteractiveSession()  \n",
    "sess.run(tf.global_variables_initializer())\n",
    "model_file=tf.train.latest_checkpoint('ckpt/')\n",
    "saver.restore(sess,model_file)\n",
    "predict = softmax_logits.eval(feed_dict={input_data: my_data})\n",
    "print (\"Predict data:\",predict)\n",
    "print (\"True data:\",y_train[i])"
   ]
  }
 ],
 "metadata": {
  "kernelspec": {
   "display_name": "Python 3",
   "language": "python",
   "name": "python3"
  },
  "language_info": {
   "codemirror_mode": {
    "name": "ipython",
    "version": 3
   },
   "file_extension": ".py",
   "mimetype": "text/x-python",
   "name": "python",
   "nbconvert_exporter": "python",
   "pygments_lexer": "ipython3",
   "version": "3.5.3"
  }
 },
 "nbformat": 4,
 "nbformat_minor": 2
}
