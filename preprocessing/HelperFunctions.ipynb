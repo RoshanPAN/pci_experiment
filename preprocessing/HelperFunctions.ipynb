{
 "cells": [
  {
   "cell_type": "code",
   "execution_count": 3,
   "metadata": {
    "collapsed": true
   },
   "outputs": [],
   "source": [
    "import datetime"
   ]
  },
  {
   "cell_type": "code",
   "execution_count": 3,
   "metadata": {},
   "outputs": [
    {
     "ename": "NameError",
     "evalue": "name 'datetime' is not defined",
     "output_type": "error",
     "traceback": [
      "\u001b[0;31m---------------------------------------------------------------------------\u001b[0m",
      "\u001b[0;31mNameError\u001b[0m                                 Traceback (most recent call last)",
      "\u001b[0;32m<ipython-input-3-16089058a86f>\u001b[0m in \u001b[0;36m<module>\u001b[0;34m()\u001b[0m\n\u001b[0;32m----> 1\u001b[0;31m datetime.datetime.fromtimestamp(\n\u001b[0m\u001b[1;32m      2\u001b[0m     \u001b[0;36m1510429035\u001b[0m\u001b[0;34m\u001b[0m\u001b[0m\n\u001b[1;32m      3\u001b[0m ).strftime('%Y-%m-%d %H:%M:%S')\n",
      "\u001b[0;31mNameError\u001b[0m: name 'datetime' is not defined"
     ]
    }
   ],
   "source": [
    "datetime.datetime.fromtimestamp(\n",
    "    1510429035\n",
    ").strftime('%Y-%m-%d %H:%M:%S')"
   ]
  },
  {
   "cell_type": "code",
   "execution_count": 12,
   "metadata": {},
   "outputs": [
    {
     "name": "stdout",
     "output_type": "stream",
     "text": [
      "Finished  01_normal_Nov10\n",
      "Finished  02_normal_Nov11\n",
      "Finished  03_with_memory_fill_Nov11_part1\n",
      "Finished  03_with_memory_fill_Nov11_part2\n",
      "Finished  03_with_memory_fill_Nov11_part3\n",
      "Finished  03_with_memory_fill_Nov11_part4\n",
      "[Failed] 04_with_disk_read_Nov12_part1_no_influence\n",
      "Finished  05_with_network_partition_part1\n",
      "Finished  05_with_network_partition_part2\n"
     ]
    }
   ],
   "source": [
    "import os\n",
    "import numpy as np\n",
    "log_folder = \"/Users/luoshangpan/Documents/pci_experiment_data/\"\n",
    "data_blocks = []\n",
    "for item in os.listdir(log_folder):\n",
    "    if os.path.isdir(log_folder + os.sep + item):\n",
    "        path = log_folder + os.sep + item + os.sep + item + \"_labeled.numpy\"\n",
    "        try:\n",
    "            with open(path, \"r\") as fh:\n",
    "                fv_label_mtx = np.load(fh)\n",
    "                data_blocks.append(fv_label_mtx)\n",
    "                print \"Finished \", item\n",
    "        except IOError:\n",
    "            print \"[Failed]\", item\n"
   ]
  },
  {
   "cell_type": "code",
   "execution_count": 33,
   "metadata": {},
   "outputs": [],
   "source": [
    "labels = np.empty(0)\n",
    "# a = np.array([1, 2, 3])\n",
    "# np.concatenate((labels, a), axis=0)\n",
    "\n",
    "# Concatenate all labels\n",
    "for b in data_blocks:\n",
    "    labels = np.concatenate((labels, b[:, -1].T))\n",
    "#     print b.shape[0]\n",
    "#     print labels.shape"
   ]
  },
  {
   "cell_type": "code",
   "execution_count": 37,
   "metadata": {},
   "outputs": [
    {
     "name": "stdout",
     "output_type": "stream",
     "text": [
      "(array([ 0.,  1.,  2.]), array([3033,  129,  261]))\n",
      "3423\n",
      "[ 0.88606486  0.03768624  0.0762489 ]\n"
     ]
    }
   ],
   "source": [
    "counter = np.unique(labels, return_counts=True)\n",
    "print counter\n",
    "total = np.sum(counter[1])\n",
    "print total\n",
    "print counter[1] / float(total)"
   ]
  },
  {
   "cell_type": "code",
   "execution_count": null,
   "metadata": {
    "collapsed": true
   },
   "outputs": [],
   "source": []
  }
 ],
 "metadata": {
  "kernelspec": {
   "display_name": "Python 2",
   "language": "python",
   "name": "python2"
  },
  "language_info": {
   "codemirror_mode": {
    "name": "ipython",
    "version": 2
   },
   "file_extension": ".py",
   "mimetype": "text/x-python",
   "name": "python",
   "nbconvert_exporter": "python",
   "pygments_lexer": "ipython2",
   "version": "2.7.13"
  }
 },
 "nbformat": 4,
 "nbformat_minor": 2
}
